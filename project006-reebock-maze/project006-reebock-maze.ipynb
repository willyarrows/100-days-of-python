{
 "cells": [
  {
   "cell_type": "code",
   "execution_count": null,
   "id": "681391d4-930d-4d5a-96fe-68a23e8ed55e",
   "metadata": {},
   "outputs": [],
   "source": [
    "# Below script is to solve the maze level in Reebor's World :\n",
    "# https://reeborg.ca/reeborg.html?lang=en&mode=python&menu=worlds%2Fmenus%2Freeborg_intro_en.json&name=Maze&url=worlds%2Ftutorial_en%2Fmaze1.json\n",
    "def turn_right():\n",
    "  turn_left()\n",
    "  turn_left()\n",
    "  turn_left()\n",
    "\n",
    "\n",
    "loop_counter = 0\n",
    "while not at_goal():\n",
    "  if front_is_clear():\n",
    "    if wall_on_right():\n",
    "      move()\n",
    "      loop_counter = 0\n",
    "    else:\n",
    "      if loop_counter < 4:\n",
    "        turn_right()\n",
    "        move()\n",
    "        loop_counter += 1\n",
    "      else:\n",
    "        move()\n",
    "        loop_counter = 0\n",
    "  else:\n",
    "    if wall_on_right():\n",
    "      turn_left()\n",
    "      loop_counter = 0\n",
    "    else:\n",
    "      turn_right()\n",
    "      move()\n",
    "      loop_counter += 1\n"
   ]
  }
 ],
 "metadata": {
  "kernelspec": {
   "display_name": "Python 3 (ipykernel)",
   "language": "python",
   "name": "python3"
  },
  "language_info": {
   "codemirror_mode": {
    "name": "ipython",
    "version": 3
   },
   "file_extension": ".py",
   "mimetype": "text/x-python",
   "name": "python",
   "nbconvert_exporter": "python",
   "pygments_lexer": "ipython3",
   "version": "3.11.5"
  }
 },
 "nbformat": 4,
 "nbformat_minor": 5
}
