{
 "cells": [
  {
   "cell_type": "code",
   "execution_count": 12,
   "id": "733ff484-5c0e-49ab-9b83-9d1fb8299b51",
   "metadata": {
    "tags": []
   },
   "outputs": [
    {
     "name": "stdout",
     "output_type": "stream",
     "text": [
      "['willy', 'danny', 'fanny', 'olive']\n",
      "<class 'list'>\n",
      "The winner is olive with a bid of $40.0\n"
     ]
    }
   ],
   "source": [
    "logo = '''\n",
    "                         ___________\n",
    "                         \\         /\n",
    "                          )_______(\n",
    "                          |\"\"\"\"\"\"\"|_.-._,.---------.,_.-._\n",
    "                          |       | | |               | | ''-.\n",
    "                          |       |_| |_             _| |_..-'\n",
    "                          |_______| '-' `'---------'` '-'\n",
    "                          )\"\"\"\"\"\"\"(\n",
    "                         /_________\\\\\n",
    "                       .-------------.\n",
    "                      /_______________\\\\\n",
    "'''\n",
    "\n",
    "from IPython.display import clear_output\n",
    "\n",
    "print(logo)\n",
    "print(\"Welcome to the secret auction program.\")\n",
    "\n",
    "auction_dict = {}\n",
    "is_more_bidder = True\n",
    "\n",
    "while is_more_bidder :\n",
    "    name = input(\"What is your name ? \")\n",
    "    bid = float(input(\"What is your bid ? $\"))\n",
    "    auction_dict[name] = bid\n",
    "    is_more_bidder = input(\"Are there any other bidders ? Type 'yes' or 'no'.\").lower() == 'yes'\n",
    "    clear_output(wait=False)\n",
    "\n",
    "name_list=list(auction_dict.keys())\n",
    "bid_list=list(auction_dict.values())\n",
    "\n",
    "highest_bid = max(bid_list)\n",
    "winner = name_list[bid_list.index(highest_bid)]\n",
    "    \n",
    "print(f\"The winner is {winner} with a bid of ${highest_bid}\")\n",
    "\n",
    "\n",
    "\n"
   ]
  }
 ],
 "metadata": {
  "kernelspec": {
   "display_name": "Python 3 (ipykernel)",
   "language": "python",
   "name": "python3"
  },
  "language_info": {
   "codemirror_mode": {
    "name": "ipython",
    "version": 3
   },
   "file_extension": ".py",
   "mimetype": "text/x-python",
   "name": "python",
   "nbconvert_exporter": "python",
   "pygments_lexer": "ipython3",
   "version": "3.11.5"
  }
 },
 "nbformat": 4,
 "nbformat_minor": 5
}
