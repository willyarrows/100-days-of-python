{
 "cells": [
  {
   "cell_type": "code",
   "execution_count": 1,
   "id": "b3278c75-7d28-41ce-9736-f5f7755431ae",
   "metadata": {
    "tags": []
   },
   "outputs": [
    {
     "name": "stdout",
     "output_type": "stream",
     "text": [
      "\n",
      "    __  ___       __             \n",
      "   / / / (_)___ _/ /_  ___  _____\n",
      "  / /_/ / / __ `/ __ \\/ _ \\/ ___/\n",
      " / __  / / /_/ / / / /  __/ /    \n",
      "/_/ ///_/\\__, /_/ /_/\\___/_/     \n",
      "   / /  /____/_      _____  _____\n",
      "  / /   / __ \\ | /| / / _ \\/ ___/\n",
      " / /___/ /_/ / |/ |/ /  __/ /    \n",
      "/_____/\\____/|__/|__/\\___/_/     \n",
      "\n",
      "Sorry, that's wrong. Your final score : 2\n"
     ]
    }
   ],
   "source": [
    "import game_data\n",
    "import art\n",
    "import random\n",
    "import time\n",
    "from IPython.display import clear_output\n",
    "\n",
    "data = game_data.data\n",
    "logo = art.logo\n",
    "vs = art.vs\n",
    "\n",
    "def clear_screen():\n",
    "    clear_output()\n",
    "    time.sleep(0.02)\n",
    "\n",
    "def format_data(data):\n",
    "    return f\"{data['name']}, {data['description']}, from {data['country']}.\"\n",
    "\n",
    "def display_game(compare_data, against_data, score):\n",
    "    clear_screen()\n",
    "    print(logo)\n",
    "    if score > 0 :\n",
    "        print(f\"You're right, current score : {score}.\")\n",
    "    print(f\"Compare A : {format_data(compare_data)}\") \n",
    "    print(vs)\n",
    "    print(f\"Against B : {format_data(against_data)}\") \n",
    "\n",
    "def display_final_score(score):\n",
    "    clear_screen()\n",
    "    print(logo)\n",
    "    print(f\"Sorry, that's wrong. Your final score : {score}\")\n",
    "    \n",
    "def pick_random_game_data(data):\n",
    "    return random.choice(data)\n",
    "\n",
    "def compare_follower(compare_data, against_data):\n",
    "    if compare_data['follower_count'] > against_data['follower_count']:\n",
    "        return \"A\"\n",
    "    elif compare_data['follower_count'] < against_data['follower_count']:\n",
    "        return \"B\"\n",
    "    else:\n",
    "        return \"Draw\"\n",
    "\n",
    "def get_user_choice():\n",
    "    choice = input(\"Who has more follower ? Type 'A' or 'B' : \").upper()\n",
    "    return choice\n",
    "\n",
    "score = 0\n",
    "compare_data = pick_random_game_data(data)\n",
    "against_data = pick_random_game_data(data)\n",
    "is_correct = True\n",
    "\n",
    "while is_correct:\n",
    "    display_game(compare_data, against_data, score)\n",
    "    user_choice = get_user_choice()\n",
    "    correct_answer = compare_follower(compare_data, against_data)\n",
    "    if user_choice == correct_answer:\n",
    "        score += 1\n",
    "        compare_data = against_data\n",
    "        against_data = pick_random_game_data(data)\n",
    "    else:\n",
    "        is_correct = False\n",
    "        display_final_score(score)\n",
    "\n",
    "\n",
    "      \n"
   ]
  }
 ],
 "metadata": {
  "kernelspec": {
   "display_name": "Python 3 (ipykernel)",
   "language": "python",
   "name": "python3"
  },
  "language_info": {
   "codemirror_mode": {
    "name": "ipython",
    "version": 3
   },
   "file_extension": ".py",
   "mimetype": "text/x-python",
   "name": "python",
   "nbconvert_exporter": "python",
   "pygments_lexer": "ipython3",
   "version": "3.11.5"
  }
 },
 "nbformat": 4,
 "nbformat_minor": 5
}
