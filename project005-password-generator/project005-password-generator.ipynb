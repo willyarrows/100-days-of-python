{
 "cells": [
  {
   "cell_type": "code",
   "execution_count": 1,
   "id": "b64db68d-ae24-44e6-87fd-8b2bcaaadba3",
   "metadata": {
    "tags": []
   },
   "outputs": [
    {
     "name": "stdout",
     "output_type": "stream",
     "text": [
      "Welcome to the PyPassword Generator!\n"
     ]
    },
    {
     "name": "stdin",
     "output_type": "stream",
     "text": [
      "How many letters would you like in your password?\n",
      " 8\n",
      "How many symbols would you like?\n",
      " 5\n",
      "How many numbers would you like?\n",
      " 5\n"
     ]
    },
    {
     "name": "stdout",
     "output_type": "stream",
     "text": [
      "Here is your password : &tj(BP+n321#L8Y(Q6\n"
     ]
    }
   ],
   "source": [
    "#Password Generator Project\n",
    "import random\n",
    "letters = ['a', 'b', 'c', 'd', 'e', 'f', 'g', 'h', 'i', 'j', 'k', 'l', 'm', 'n', 'o', 'p', 'q', 'r', 's', 't', 'u', 'v', 'w', 'x', 'y', 'z', 'A', 'B', 'C', 'D', 'E', 'F', 'G', 'H', 'I', 'J', 'K', 'L', 'M', 'N', 'O', 'P', 'Q', 'R', 'S', 'T', 'U', 'V', 'W', 'X', 'Y', 'Z']\n",
    "numbers = ['0', '1', '2', '3', '4', '5', '6', '7', '8', '9']\n",
    "symbols = ['!', '#', '$', '%', '&', '(', ')', '*', '+']\n",
    "\n",
    "print(\"Welcome to the PyPassword Generator!\")\n",
    "nr_letters= int(input(\"How many letters would you like in your password?\\n\")) \n",
    "nr_symbols = int(input(f\"How many symbols would you like?\\n\"))\n",
    "nr_numbers = int(input(f\"How many numbers would you like?\\n\"))\n",
    "\n",
    "#Eazy Level - Order not randomised:\n",
    "#e.g. 4 letter, 2 symbol, 2 number = JduE&!91\n",
    "\n",
    "#Hard Level - Order of characters randomised:\n",
    "#e.g. 4 letter, 2 symbol, 2 number = g^2jk8&P\n",
    "\n",
    "index = [] #0 = letter, 1 = symbol, 2 = number\n",
    "if nr_letters > 0 :index.append(0)\n",
    "if nr_symbols > 0 :index.append(1)\n",
    "if nr_numbers > 0 :index.append(2)\n",
    "\n",
    "password_length = nr_letters + nr_symbols + nr_numbers\n",
    "password = []\n",
    "while password_length > 0:\n",
    "    index_random = random.choice(index)\n",
    "    if index_random == 0 : #letter is chosen\n",
    "        password.append(random.choice(letters))\n",
    "        nr_letters -= 1\n",
    "        if nr_letters == 0 :\n",
    "            index.remove(0)\n",
    "    elif index_random == 1 : #symbol is chosen\n",
    "        password.append(random.choice(symbols))\n",
    "        nr_symbols -= 1\n",
    "        if nr_symbols == 0 :\n",
    "            index.remove(1) \n",
    "    elif index_random == 2 : #number is chosen\n",
    "        password.append(random.choice(numbers))\n",
    "        nr_numbers -= 1\n",
    "        if nr_numbers == 0 :\n",
    "            index.remove(2)  \n",
    "    password_length -= 1\n",
    "    \n",
    "print(f\"Here is your password : {''.join(password)}\")    \n",
    "    "
   ]
  }
 ],
 "metadata": {
  "kernelspec": {
   "display_name": "Python 3 (ipykernel)",
   "language": "python",
   "name": "python3"
  },
  "language_info": {
   "codemirror_mode": {
    "name": "ipython",
    "version": 3
   },
   "file_extension": ".py",
   "mimetype": "text/x-python",
   "name": "python",
   "nbconvert_exporter": "python",
   "pygments_lexer": "ipython3",
   "version": "3.11.5"
  }
 },
 "nbformat": 4,
 "nbformat_minor": 5
}
