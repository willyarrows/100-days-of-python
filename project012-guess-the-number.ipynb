{
 "cells": [
  {
   "cell_type": "code",
   "execution_count": 3,
   "id": "7b2932a1-7cd5-4174-82b1-5eba401297ec",
   "metadata": {
    "tags": []
   },
   "outputs": [
    {
     "name": "stdin",
     "output_type": "stream",
     "text": [
      "Choose a difficulty. Type 'easy' or 'hard' :  hard\n"
     ]
    },
    {
     "name": "stdout",
     "output_type": "stream",
     "text": [
      "You have 5 remaining to guess the mystery number.\n"
     ]
    },
    {
     "name": "stdin",
     "output_type": "stream",
     "text": [
      "Make a guess:  50\n"
     ]
    },
    {
     "name": "stdout",
     "output_type": "stream",
     "text": [
      "Too high\n",
      "Guess again\n",
      "You have 4 remaining to guess the mystery number.\n"
     ]
    },
    {
     "name": "stdin",
     "output_type": "stream",
     "text": [
      "Make a guess:  25\n"
     ]
    },
    {
     "name": "stdout",
     "output_type": "stream",
     "text": [
      "Too low\n",
      "Guess again\n",
      "You have 3 remaining to guess the mystery number.\n"
     ]
    },
    {
     "name": "stdin",
     "output_type": "stream",
     "text": [
      "Make a guess:  35\n"
     ]
    },
    {
     "name": "stdout",
     "output_type": "stream",
     "text": [
      "Too high\n",
      "Guess again\n",
      "You have 2 remaining to guess the mystery number.\n"
     ]
    },
    {
     "name": "stdin",
     "output_type": "stream",
     "text": [
      "Make a guess:  42\n"
     ]
    },
    {
     "name": "stdout",
     "output_type": "stream",
     "text": [
      "Too high\n",
      "Guess again\n",
      "You have 1 remaining to guess the mystery number.\n"
     ]
    },
    {
     "name": "stdin",
     "output_type": "stream",
     "text": [
      "Make a guess:  44\n"
     ]
    },
    {
     "name": "stdout",
     "output_type": "stream",
     "text": [
      "Too high\n",
      "You've run out of guesses, the mystery number was 33. You lose.\n"
     ]
    },
    {
     "name": "stdin",
     "output_type": "stream",
     "text": [
      "Do you want to play again ? Type 'y' for yes and 'n' for no :  n\n"
     ]
    },
    {
     "name": "stdout",
     "output_type": "stream",
     "text": [
      "Thank you for Playing. Good bye.\n"
     ]
    }
   ],
   "source": [
    "import random\n",
    "import time\n",
    "from IPython.display import clear_output\n",
    "\n",
    "LOGO = \"\"\"        _                        __                 _               \n",
    "  /\\/\\  _   _ ___| |_ ___ _ __ _   _    /\\ \\ \\_   _ _ __ ___ | |__   ___ _ __ \n",
    " /    \\| | | / __| __/ _ \\ '__| | | |  /  \\/ / | | | '_ ` _ \\| '_ \\ / _ \\ '__|\n",
    "/ /\\/\\ \\ |_| \\__ \\ ||  __/ |  | |_| | / /\\  /| |_| | | | | | | |_) |  __/ |   \n",
    "\\/    \\/\\__, |___/\\__\\___|_|   \\__, | \\_\\ \\/  \\__,_|_| |_| |_|_.__/ \\___|_|   \n",
    "        |___/                  |___/                                          \n",
    "\"\"\"\n",
    "\n",
    "ATTEMPT_DICT = {\n",
    "    \"easy\":10,\n",
    "    \"hard\":5\n",
    "}\n",
    "\n",
    "MIN_NUMBER = 1\n",
    "MAX_NUMBER = 100\n",
    "\n",
    "def clear_screen():\n",
    "    clear_output()\n",
    "    time.sleep(0.02)\n",
    "\n",
    "def generate_number():\n",
    "    return random.randint(MIN_NUMBER,MAX_NUMBER)\n",
    "\n",
    "def get_initial_attemp(difficulty):\n",
    "    return ATTEMPT_DICT[difficulty]\n",
    "\n",
    "def check_number(guessed_number, mystery_number, attempt):\n",
    "    attempt -= 1\n",
    "    \n",
    "    if guessed_number < mystery_number:\n",
    "        print(\"Too low\")\n",
    "        if attempt > 0 : \n",
    "            print(\"Guess again\")\n",
    "        else: \n",
    "            print(f\"You've run out of guesses, the mystery number was {mystery_number}. You lose.\")\n",
    "    elif guessed_number > mystery_number:\n",
    "        print(\"Too high\")\n",
    "        if attempt > 0 : \n",
    "            print(\"Guess again\")\n",
    "        else: \n",
    "            print(f\"You've run out of guesses, the mystery number was {mystery_number}. You lose.\")\n",
    "    else:\n",
    "        print(f\"You got it !!!, the mystery number was {mystery_number}\")\n",
    "    \n",
    "    return attempt\n",
    "\n",
    "def check_game_over(attempt, guessed_number, mystery_number):\n",
    "    return (attempt == 0) or (guessed_number == mystery_number)\n",
    "\n",
    "def show_welcome_message():\n",
    "    print(LOGO)\n",
    "    print(\"Welcome to the number guessing game !!!\")\n",
    "    print(f\"I'm thinking of a number between {MIN_NUMBER} and {MAX_NUMBER}.\")\n",
    "    \n",
    "def play_game():\n",
    "    mystery_number = generate_number()\n",
    "    difficulty = input(\"Choose a difficulty. Type 'easy' or 'hard' : \").lower()\n",
    "    attempt = get_initial_attemp(difficulty)\n",
    "    \n",
    "    is_game_over = False\n",
    "    \n",
    "    while not is_game_over:\n",
    "        print(f\"You have {attempt} remaining to guess the mystery number.\")\n",
    "        guessed_number = int(input(\"Make a guess: \"))\n",
    "        attempt = check_number(guessed_number, mystery_number, attempt)\n",
    "        is_game_over = check_game_over(attempt, guessed_number, mystery_number)\n",
    "\n",
    "show_welcome_message()\n",
    "should_continue = True\n",
    "while should_continue:\n",
    "    play_game()\n",
    "    should_continue = input(\"Do you want to play again ? Type 'y' for yes and 'n' for no : \").lower() == 'y'\n",
    "    if should_continue : clear_screen()\n",
    "print(\"Thank you for Playing. Good bye.\") \n"
   ]
  }
 ],
 "metadata": {
  "kernelspec": {
   "display_name": "Python 3 (ipykernel)",
   "language": "python",
   "name": "python3"
  },
  "language_info": {
   "codemirror_mode": {
    "name": "ipython",
    "version": 3
   },
   "file_extension": ".py",
   "mimetype": "text/x-python",
   "name": "python",
   "nbconvert_exporter": "python",
   "pygments_lexer": "ipython3",
   "version": "3.11.5"
  }
 },
 "nbformat": 4,
 "nbformat_minor": 5
}
