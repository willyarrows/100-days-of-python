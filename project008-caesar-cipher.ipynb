{
 "cells": [
  {
   "cell_type": "code",
   "execution_count": null,
   "id": "f2cf0d6e-6c7f-48ce-b856-eb16b693b37a",
   "metadata": {
    "tags": []
   },
   "outputs": [],
   "source": [
    "logo = \"\"\"           \n",
    " ,adPPYba, ,adPPYYba,  ,adPPYba, ,adPPYba, ,adPPYYba, 8b,dPPYba,  \n",
    "a8\"     \"\" \"\"     `Y8 a8P_____88 I8[    \"\" \"\"     `Y8 88P'   \"Y8  \n",
    "8b         ,adPPPPP88 8PP\"\"\"\"\"\"\"  `\"Y8ba,  ,adPPPPP88 88          \n",
    "\"8a,   ,aa 88,    ,88 \"8b,   ,aa aa    ]8I 88,    ,88 88          \n",
    " `\"Ybbd8\"' `\"8bbdP\"Y8  `\"Ybbd8\"' `\"YbbdP\"' `\"8bbdP\"Y8 88   \n",
    "            88             88                                 \n",
    "           \"\"             88                                 \n",
    "                          88                                 \n",
    " ,adPPYba, 88 8b,dPPYba,  88,dPPYba,   ,adPPYba, 8b,dPPYba,  \n",
    "a8\"     \"\" 88 88P'    \"8a 88P'    \"8a a8P_____88 88P'   \"Y8  \n",
    "8b         88 88       d8 88       88 8PP\"\"\"\"\"\"\" 88          \n",
    "\"8a,   ,aa 88 88b,   ,a8\" 88       88 \"8b,   ,aa 88          \n",
    " `\"Ybbd8\"' 88 88`YbbdP\"'  88       88  `\"Ybbd8\"' 88          \n",
    "              88                                             \n",
    "              88           \n",
    "\"\"\"\n",
    "\n",
    "def caesar(text, shift, direction):\n",
    "    output_text = \"\"\n",
    "    for char in text:\n",
    "        if not char.isalpha() :\n",
    "            output_text += char\n",
    "        else:\n",
    "            input_index = alphabet.index(char)\n",
    "            input_length = len(alphabet)\n",
    "            shift = shift % input_length\n",
    "            if direction == \"encode\" :\n",
    "                output_index = input_index + shift\n",
    "                if output_index > input_length - 1:\n",
    "                    output_index -= input_length  \n",
    "            elif direction == \"decode\" :\n",
    "                output_index = input_index - shift\n",
    "            output_text += alphabet[output_index]\n",
    "\n",
    "\n",
    "    print(f\"The {direction}d text is {output_text}\")\n",
    "    \n",
    "\n",
    "alphabet = ['a', 'b', 'c', 'd', 'e', 'f', 'g', 'h', 'i', 'j', 'k', 'l', 'm', 'n', 'o', 'p', 'q', 'r', 's', 't', 'u', 'v', 'w', 'x', 'y', 'z']\n",
    "\n",
    "print(logo)\n",
    "\n",
    "is_continue = True\n",
    "while is_continue :\n",
    "    input_direction = input(\"Type 'encode' to encrypt, type 'decode' to decrypt:\\n\").lower()\n",
    "    if input_direction not in ['encode', 'decode'] :\n",
    "        print(\"Invalid input. Please type either 'encode' or 'decode'. \")\n",
    "    else:\n",
    "        input_text = input(\"Type your message:\\n\").lower()\n",
    "        input_shift = int(input(\"Type the shift number:\\n\"))  \n",
    "\n",
    "        caesar(text = input_text, shift = input_shift, direction = input_direction)\n",
    "\n",
    "        input_continue = input(\"\\nType 'yes' if you want to go again, otherwise type 'no'.\\n\")\n",
    "        if input_continue.lower() == 'no':\n",
    "            is_continue = False\n",
    "            print(\"Goodbye and have a nice day ahead !!! \")\n"
   ]
  }
 ],
 "metadata": {
  "kernelspec": {
   "display_name": "Python 3 (ipykernel)",
   "language": "python",
   "name": "python3"
  },
  "language_info": {
   "codemirror_mode": {
    "name": "ipython",
    "version": 3
   },
   "file_extension": ".py",
   "mimetype": "text/x-python",
   "name": "python",
   "nbconvert_exporter": "python",
   "pygments_lexer": "ipython3",
   "version": "3.11.5"
  }
 },
 "nbformat": 4,
 "nbformat_minor": 5
}
